{
 "cells": [
  {
   "cell_type": "markdown",
   "metadata": {},
   "source": [
    "<h1 style=\"color:#00CED1; font-weight:bold; font-size:60px;\">Turby Cargado</h1>\n",
    "<h2>Análisis de Series de Tiempo</h2>\n",
    "<p><strong>Autor:</strong> Ruben Durango</p>\n",
    "<p><strong>Fecha:</strong> 08 de Agosto de 2024</p>\n",
    "<p><strong>Descripción:</strong> Este notebook analiza los tiempos de carga del auto Changan Lumin (Turby) para validar el mejor modelo de predicción de carga.</p>\n",
    "\n",
    "---"
   ]
  },
  {
   "cell_type": "markdown",
   "metadata": {},
   "source": [
    "El objetivo de este notebook es entender cómo se comportan los ciclos de carga del auto Changan Lumin, (**Turby**). A través de un análisis detallado de las series de tiempo de los datos de carga, buscamos identificar patrones y tendencias que nos permitan *construir un modelo predictivo preciso*. Este modelo nos ayudará a estimar con mayor exactitud el tiempo de carga del vehículo\n"
   ]
  },
  {
   "cell_type": "markdown",
   "metadata": {},
   "source": [
    "## Tabla de Contenido\n",
    "\n",
    "1. [Importación de Librerías](#importacion-de-librerias)\n",
    "2. [Carga y Exploración de Datos](#carga-y-exploracion-de-datos)\n",
    "3. [Análisis Exploratorio de Datos](#analisis-exploratorio-de-datos)\n",
    "4. [Modelado y Validación](#modelado-y-validacion)\n",
    "5. [Conclusiones](#conclusiones)"
   ]
  },
  {
   "cell_type": "markdown",
   "metadata": {},
   "source": [
    "### 1. Importación de Librerías\n",
    "<a id=\"importacion-de-librerias\"></a>\n",
    "En esta sección, importamos las librerías necesarias para el **análisis de datos**, la **visualización** y la **construcción del modelo predictivo**. \n",
    "\n",
    ">Utilizaremos pandas para la manipulación de datos, numpy para operaciones numéricas, matplotlib y seaborn para la visualización, y scikit-learn para el modelado."
   ]
  },
  {
   "cell_type": "code",
   "execution_count": 3,
   "metadata": {},
   "outputs": [],
   "source": [
    "# Importación de librerías necesarias\n",
    "import pandas as pd\n",
    "import numpy as np\n",
    "\n",
    "import matplotlib.pyplot as plt\n",
    "import seaborn as sns\n",
    "\n",
    "from sklearn.linear_model import LinearRegression\n",
    "from sklearn.metrics import r2_score\n",
    "\n",
    "# Configuración de estilos para los gráficos\n",
    "plt.style.use('fivethirtyeight') \n",
    "\n",
    "# Configuración adicional para matplotlib\n",
    "%matplotlib inline\n",
    "plt.rcParams['figure.figsize'] = (12, 6)\n",
    "plt.rcParams['axes.titlesize'] = 18\n",
    "plt.rcParams['axes.labelsize'] = 14\n",
    "plt.rcParams['xtick.labelsize'] = 12\n",
    "plt.rcParams['ytick.labelsize'] = 12\n",
    "plt.rcParams['legend.fontsize'] = 12\n",
    "plt.rcParams['figure.titlesize'] = 20"
   ]
  },
  {
   "cell_type": "markdown",
   "metadata": {},
   "source": [
    "### 2. Carga y Exploración de Datos\n",
    "<a id=\"carga-y-exploracion-de-datos\"></a>\n",
    "\n",
    "En esta sección, cargaremos los datos de carga de Turby y realizaremos una exploración inicial para comprender su estructura y características principales. Además, limpiaremos los datos y los prepararemos para el análisis posterior."
   ]
  },
  {
   "cell_type": "code",
   "execution_count": 10,
   "metadata": {},
   "outputs": [
    {
     "name": "stdout",
     "output_type": "stream",
     "text": [
      "<class 'pandas.core.frame.DataFrame'>\n",
      "RangeIndex: 23 entries, 0 to 22\n",
      "Data columns (total 4 columns):\n",
      " #   Column  Non-Null Count  Dtype \n",
      "---  ------  --------------  ----- \n",
      " 0   Index   23 non-null     int64 \n",
      " 1   Hora    23 non-null     object\n",
      " 2   Tiempo  23 non-null     int64 \n",
      " 3   Carga   23 non-null     object\n",
      "dtypes: int64(2), object(2)\n",
      "memory usage: 864.0+ bytes\n"
     ]
    }
   ],
   "source": [
    "# Carga del dataset\n",
    "df_raw = pd.read_csv('../data/cargas.csv', sep=';')\n",
    "\n",
    "df_raw.info()"
   ]
  },
  {
   "cell_type": "markdown",
   "metadata": {},
   "source": [
    "> **Nota**: La columna `Hora` no es tan necesaria, pues ya tenemos la columna `Tiempo` que representa los minutos desde el inicio de la carga, *que es realmente lo que necesito*"
   ]
  },
  {
   "cell_type": "code",
   "execution_count": 24,
   "metadata": {},
   "outputs": [
    {
     "name": "stdout",
     "output_type": "stream",
     "text": [
      "<class 'pandas.core.frame.DataFrame'>\n",
      "RangeIndex: 23 entries, 0 to 22\n",
      "Data columns (total 3 columns):\n",
      " #   Column  Non-Null Count  Dtype  \n",
      "---  ------  --------------  -----  \n",
      " 0   Index   23 non-null     int64  \n",
      " 1   Tiempo  23 non-null     int64  \n",
      " 2   Carga   23 non-null     float64\n",
      "dtypes: float64(1), int64(2)\n",
      "memory usage: 680.0 bytes\n"
     ]
    }
   ],
   "source": [
    "# Corrigiendo el tipo de datos\n",
    "df = df_raw.copy()\n",
    "\n",
    "## Columnas \"Carga\"\n",
    "df['Carga'] = df['Carga'].str.replace(',', '.').astype(float)\n",
    "\n",
    "# Eliminando columnas innecesarias\n",
    "df = df.drop(columns=['Hora'])\n",
    "\n",
    "df.info()"
   ]
  },
  {
   "cell_type": "code",
   "execution_count": 27,
   "metadata": {},
   "outputs": [
    {
     "data": {
      "text/html": [
       "<div>\n",
       "<style scoped>\n",
       "    .dataframe tbody tr th:only-of-type {\n",
       "        vertical-align: middle;\n",
       "    }\n",
       "\n",
       "    .dataframe tbody tr th {\n",
       "        vertical-align: top;\n",
       "    }\n",
       "\n",
       "    .dataframe thead th {\n",
       "        text-align: right;\n",
       "    }\n",
       "</style>\n",
       "<table border=\"1\" class=\"dataframe\">\n",
       "  <thead>\n",
       "    <tr style=\"text-align: right;\">\n",
       "      <th></th>\n",
       "      <th>Index</th>\n",
       "      <th>Tiempo</th>\n",
       "      <th>Carga</th>\n",
       "    </tr>\n",
       "  </thead>\n",
       "  <tbody>\n",
       "    <tr>\n",
       "      <th>0</th>\n",
       "      <td>1</td>\n",
       "      <td>0</td>\n",
       "      <td>0.25</td>\n",
       "    </tr>\n",
       "    <tr>\n",
       "      <th>1</th>\n",
       "      <td>1</td>\n",
       "      <td>190</td>\n",
       "      <td>0.72</td>\n",
       "    </tr>\n",
       "    <tr>\n",
       "      <th>2</th>\n",
       "      <td>1</td>\n",
       "      <td>235</td>\n",
       "      <td>0.81</td>\n",
       "    </tr>\n",
       "    <tr>\n",
       "      <th>3</th>\n",
       "      <td>2</td>\n",
       "      <td>0</td>\n",
       "      <td>0.47</td>\n",
       "    </tr>\n",
       "    <tr>\n",
       "      <th>4</th>\n",
       "      <td>2</td>\n",
       "      <td>12</td>\n",
       "      <td>0.50</td>\n",
       "    </tr>\n",
       "  </tbody>\n",
       "</table>\n",
       "</div>"
      ],
      "text/plain": [
       "   Index  Tiempo  Carga\n",
       "0      1       0   0.25\n",
       "1      1     190   0.72\n",
       "2      1     235   0.81\n",
       "3      2       0   0.47\n",
       "4      2      12   0.50"
      ]
     },
     "execution_count": 27,
     "metadata": {},
     "output_type": "execute_result"
    }
   ],
   "source": [
    "df.head()"
   ]
  },
  {
   "cell_type": "markdown",
   "metadata": {},
   "source": [
    "### 3. Análisis Exploratorio de Datos\n",
    "<a id=\"analisis-exploratorio-de-datos\"></a>\n",
    "\n",
    "En esta sección, realizaremos un análisis exploratorio de los datos para identificar patrones, tendencias y relaciones importantes. Este análisis nos ayudará a comprender mejor los datos y a preparar el terreno para la construcción del modelo predictivo."
   ]
  },
  {
   "cell_type": "code",
   "execution_count": 29,
   "metadata": {},
   "outputs": [
    {
     "name": "stdout",
     "output_type": "stream",
     "text": [
      "Resumen estadístico básico:\n"
     ]
    },
    {
     "data": {
      "text/html": [
       "<div>\n",
       "<style scoped>\n",
       "    .dataframe tbody tr th:only-of-type {\n",
       "        vertical-align: middle;\n",
       "    }\n",
       "\n",
       "    .dataframe tbody tr th {\n",
       "        vertical-align: top;\n",
       "    }\n",
       "\n",
       "    .dataframe thead th {\n",
       "        text-align: right;\n",
       "    }\n",
       "</style>\n",
       "<table border=\"1\" class=\"dataframe\">\n",
       "  <thead>\n",
       "    <tr style=\"text-align: right;\">\n",
       "      <th></th>\n",
       "      <th>Index</th>\n",
       "      <th>Tiempo</th>\n",
       "      <th>Carga</th>\n",
       "    </tr>\n",
       "  </thead>\n",
       "  <tbody>\n",
       "    <tr>\n",
       "      <th>count</th>\n",
       "      <td>23.000000</td>\n",
       "      <td>23.000000</td>\n",
       "      <td>23.000000</td>\n",
       "    </tr>\n",
       "    <tr>\n",
       "      <th>mean</th>\n",
       "      <td>2.913043</td>\n",
       "      <td>71.391304</td>\n",
       "      <td>0.546087</td>\n",
       "    </tr>\n",
       "    <tr>\n",
       "      <th>std</th>\n",
       "      <td>1.239980</td>\n",
       "      <td>76.097270</td>\n",
       "      <td>0.177219</td>\n",
       "    </tr>\n",
       "    <tr>\n",
       "      <th>min</th>\n",
       "      <td>1.000000</td>\n",
       "      <td>0.000000</td>\n",
       "      <td>0.250000</td>\n",
       "    </tr>\n",
       "    <tr>\n",
       "      <th>25%</th>\n",
       "      <td>2.000000</td>\n",
       "      <td>12.000000</td>\n",
       "      <td>0.425000</td>\n",
       "    </tr>\n",
       "    <tr>\n",
       "      <th>50%</th>\n",
       "      <td>3.000000</td>\n",
       "      <td>36.000000</td>\n",
       "      <td>0.500000</td>\n",
       "    </tr>\n",
       "    <tr>\n",
       "      <th>75%</th>\n",
       "      <td>4.000000</td>\n",
       "      <td>134.500000</td>\n",
       "      <td>0.695000</td>\n",
       "    </tr>\n",
       "    <tr>\n",
       "      <th>max</th>\n",
       "      <td>5.000000</td>\n",
       "      <td>235.000000</td>\n",
       "      <td>0.830000</td>\n",
       "    </tr>\n",
       "  </tbody>\n",
       "</table>\n",
       "</div>"
      ],
      "text/plain": [
       "           Index      Tiempo      Carga\n",
       "count  23.000000   23.000000  23.000000\n",
       "mean    2.913043   71.391304   0.546087\n",
       "std     1.239980   76.097270   0.177219\n",
       "min     1.000000    0.000000   0.250000\n",
       "25%     2.000000   12.000000   0.425000\n",
       "50%     3.000000   36.000000   0.500000\n",
       "75%     4.000000  134.500000   0.695000\n",
       "max     5.000000  235.000000   0.830000"
      ]
     },
     "execution_count": 29,
     "metadata": {},
     "output_type": "execute_result"
    }
   ],
   "source": [
    "print(\"Resumen estadístico básico:\")\n",
    "df.describe()"
   ]
  },
  {
   "cell_type": "code",
   "execution_count": 63,
   "metadata": {},
   "outputs": [
    {
     "name": "stdout",
     "output_type": "stream",
     "text": [
      "Resumen estadístico agrupado por ciclo de carga:\n"
     ]
    },
    {
     "data": {
      "text/html": [
       "<div>\n",
       "<style scoped>\n",
       "    .dataframe tbody tr th:only-of-type {\n",
       "        vertical-align: middle;\n",
       "    }\n",
       "\n",
       "    .dataframe tbody tr th {\n",
       "        vertical-align: top;\n",
       "    }\n",
       "\n",
       "    .dataframe thead tr th {\n",
       "        text-align: left;\n",
       "    }\n",
       "\n",
       "    .dataframe thead tr:last-of-type th {\n",
       "        text-align: right;\n",
       "    }\n",
       "</style>\n",
       "<table border=\"1\" class=\"dataframe\">\n",
       "  <thead>\n",
       "    <tr>\n",
       "      <th></th>\n",
       "      <th colspan=\"8\" halign=\"left\">Tiempo</th>\n",
       "      <th colspan=\"8\" halign=\"left\">Carga</th>\n",
       "    </tr>\n",
       "    <tr>\n",
       "      <th></th>\n",
       "      <th>count</th>\n",
       "      <th>mean</th>\n",
       "      <th>std</th>\n",
       "      <th>min</th>\n",
       "      <th>25%</th>\n",
       "      <th>50%</th>\n",
       "      <th>75%</th>\n",
       "      <th>max</th>\n",
       "      <th>count</th>\n",
       "      <th>mean</th>\n",
       "      <th>std</th>\n",
       "      <th>min</th>\n",
       "      <th>25%</th>\n",
       "      <th>50%</th>\n",
       "      <th>75%</th>\n",
       "      <th>max</th>\n",
       "    </tr>\n",
       "    <tr>\n",
       "      <th>Index</th>\n",
       "      <th></th>\n",
       "      <th></th>\n",
       "      <th></th>\n",
       "      <th></th>\n",
       "      <th></th>\n",
       "      <th></th>\n",
       "      <th></th>\n",
       "      <th></th>\n",
       "      <th></th>\n",
       "      <th></th>\n",
       "      <th></th>\n",
       "      <th></th>\n",
       "      <th></th>\n",
       "      <th></th>\n",
       "      <th></th>\n",
       "      <th></th>\n",
       "    </tr>\n",
       "  </thead>\n",
       "  <tbody>\n",
       "    <tr>\n",
       "      <th>1</th>\n",
       "      <td>3.0</td>\n",
       "      <td>141.666667</td>\n",
       "      <td>124.733048</td>\n",
       "      <td>0.0</td>\n",
       "      <td>95.00</td>\n",
       "      <td>190.0</td>\n",
       "      <td>212.50</td>\n",
       "      <td>235.0</td>\n",
       "      <td>3.0</td>\n",
       "      <td>0.593333</td>\n",
       "      <td>0.300721</td>\n",
       "      <td>0.25</td>\n",
       "      <td>0.4850</td>\n",
       "      <td>0.720</td>\n",
       "      <td>0.7650</td>\n",
       "      <td>0.81</td>\n",
       "    </tr>\n",
       "    <tr>\n",
       "      <th>2</th>\n",
       "      <td>6.0</td>\n",
       "      <td>52.333333</td>\n",
       "      <td>48.508419</td>\n",
       "      <td>0.0</td>\n",
       "      <td>17.75</td>\n",
       "      <td>43.5</td>\n",
       "      <td>76.75</td>\n",
       "      <td>130.0</td>\n",
       "      <td>6.0</td>\n",
       "      <td>0.591667</td>\n",
       "      <td>0.112146</td>\n",
       "      <td>0.47</td>\n",
       "      <td>0.5125</td>\n",
       "      <td>0.570</td>\n",
       "      <td>0.6500</td>\n",
       "      <td>0.77</td>\n",
       "    </tr>\n",
       "    <tr>\n",
       "      <th>3</th>\n",
       "      <td>7.0</td>\n",
       "      <td>68.000000</td>\n",
       "      <td>73.857972</td>\n",
       "      <td>0.0</td>\n",
       "      <td>17.00</td>\n",
       "      <td>34.0</td>\n",
       "      <td>105.50</td>\n",
       "      <td>197.0</td>\n",
       "      <td>7.0</td>\n",
       "      <td>0.464286</td>\n",
       "      <td>0.175201</td>\n",
       "      <td>0.30</td>\n",
       "      <td>0.3450</td>\n",
       "      <td>0.380</td>\n",
       "      <td>0.5550</td>\n",
       "      <td>0.77</td>\n",
       "    </tr>\n",
       "    <tr>\n",
       "      <th>4</th>\n",
       "      <td>4.0</td>\n",
       "      <td>58.250000</td>\n",
       "      <td>81.993394</td>\n",
       "      <td>0.0</td>\n",
       "      <td>12.00</td>\n",
       "      <td>27.0</td>\n",
       "      <td>73.25</td>\n",
       "      <td>179.0</td>\n",
       "      <td>4.0</td>\n",
       "      <td>0.547500</td>\n",
       "      <td>0.191898</td>\n",
       "      <td>0.41</td>\n",
       "      <td>0.4400</td>\n",
       "      <td>0.475</td>\n",
       "      <td>0.5825</td>\n",
       "      <td>0.83</td>\n",
       "    </tr>\n",
       "    <tr>\n",
       "      <th>5</th>\n",
       "      <td>3.0</td>\n",
       "      <td>64.666667</td>\n",
       "      <td>82.809017</td>\n",
       "      <td>0.0</td>\n",
       "      <td>18.00</td>\n",
       "      <td>36.0</td>\n",
       "      <td>97.00</td>\n",
       "      <td>158.0</td>\n",
       "      <td>3.0</td>\n",
       "      <td>0.596667</td>\n",
       "      <td>0.198578</td>\n",
       "      <td>0.44</td>\n",
       "      <td>0.4850</td>\n",
       "      <td>0.530</td>\n",
       "      <td>0.6750</td>\n",
       "      <td>0.82</td>\n",
       "    </tr>\n",
       "  </tbody>\n",
       "</table>\n",
       "</div>"
      ],
      "text/plain": [
       "      Tiempo                                                           Carga  \\\n",
       "       count        mean         std  min    25%    50%     75%    max count   \n",
       "Index                                                                          \n",
       "1        3.0  141.666667  124.733048  0.0  95.00  190.0  212.50  235.0   3.0   \n",
       "2        6.0   52.333333   48.508419  0.0  17.75   43.5   76.75  130.0   6.0   \n",
       "3        7.0   68.000000   73.857972  0.0  17.00   34.0  105.50  197.0   7.0   \n",
       "4        4.0   58.250000   81.993394  0.0  12.00   27.0   73.25  179.0   4.0   \n",
       "5        3.0   64.666667   82.809017  0.0  18.00   36.0   97.00  158.0   3.0   \n",
       "\n",
       "                                                              \n",
       "           mean       std   min     25%    50%     75%   max  \n",
       "Index                                                         \n",
       "1      0.593333  0.300721  0.25  0.4850  0.720  0.7650  0.81  \n",
       "2      0.591667  0.112146  0.47  0.5125  0.570  0.6500  0.77  \n",
       "3      0.464286  0.175201  0.30  0.3450  0.380  0.5550  0.77  \n",
       "4      0.547500  0.191898  0.41  0.4400  0.475  0.5825  0.83  \n",
       "5      0.596667  0.198578  0.44  0.4850  0.530  0.6750  0.82  "
      ]
     },
     "execution_count": 63,
     "metadata": {},
     "output_type": "execute_result"
    }
   ],
   "source": [
    "print(\"Resumen estadístico agrupado por ciclo de carga:\")\n",
    "df.groupby('Index').describe()"
   ]
  },
  {
   "cell_type": "markdown",
   "metadata": {},
   "source": [
    "> **Nota**: Para este caso, no voy a construir tantos gráficos exploratorios porque sé exactamente lo que quiero ver: \"El comportamiento de cada ciclo de carga\", es decir, la relación entre la carga y el tiempo para cada ciclo."
   ]
  },
  {
   "cell_type": "code",
   "execution_count": 58,
   "metadata": {},
   "outputs": [
    {
     "data": {
      "image/png": "[encoded data removed]",
      "text/plain": [
       "<Figure size 1200x600 with 1 Axes>"
      ]
     },
     "metadata": {},
     "output_type": "display_data"
    }
   ],
   "source": [
    "sns.lineplot(data=df, x='Tiempo', y='Carga', hue='Index', marker='o',palette=sns.color_palette('crest', as_cmap=True))\n",
    "plt.title('Relación entre Tiempo y Carga por Ciclo de Carga')\n",
    "plt.xlabel('Tiempo (segundos)')\n",
    "plt.ylabel('Carga')\n",
    "plt.legend(title='Ciclo de Carga')\n",
    "plt.show()"
   ]
  },
  {
   "cell_type": "markdown",
   "metadata": {},
   "source": [
    "> **Nota**: Parece que el **comportamiento es lineal** (más simple de lo esperado), y que la carga depende de la *carga inicial* y de la *pendiente* de estas líneas (que parece ser la misma).\n"
   ]
  },
  {
   "cell_type": "markdown",
   "metadata": {},
   "source": [
    "### 4. Modelado y Validación\n",
    "<a id=\"modelado-y-validacion\"></a>\n",
    "\n",
    "En esta sección, nos decantaremos por una regresión lineal para modelar la relación entre el tiempo y la carga de la batería. Este modelo nos permitirá predecir el tiempo necesario para alcanzar un porcentaje de carga deseado, dado un nivel de carga inicial."
   ]
  },
  {
   "cell_type": "markdown",
   "metadata": {},
   "source": [
    "Ahora entrenamos un modelo de *regresión lineal para cada ciclo de carga* y calculamos la **pendiente**, el **intercepto** y el **coeficiente de determinación** (R²)."
   ]
  },
  {
   "cell_type": "code",
   "execution_count": 66,
   "metadata": {},
   "outputs": [
    {
     "data": {
      "text/html": [
       "<div>\n",
       "<style scoped>\n",
       "    .dataframe tbody tr th:only-of-type {\n",
       "        vertical-align: middle;\n",
       "    }\n",
       "\n",
       "    .dataframe tbody tr th {\n",
       "        vertical-align: top;\n",
       "    }\n",
       "\n",
       "    .dataframe thead th {\n",
       "        text-align: right;\n",
       "    }\n",
       "</style>\n",
       "<table border=\"1\" class=\"dataframe\">\n",
       "  <thead>\n",
       "    <tr style=\"text-align: right;\">\n",
       "      <th></th>\n",
       "      <th>Ciclo</th>\n",
       "      <th>Pendiente</th>\n",
       "      <th>Intercepto</th>\n",
       "      <th>R2</th>\n",
       "    </tr>\n",
       "  </thead>\n",
       "  <tbody>\n",
       "    <tr>\n",
       "      <th>0</th>\n",
       "      <td>1</td>\n",
       "      <td>0.002410</td>\n",
       "      <td>0.251952</td>\n",
       "      <td>0.999029</td>\n",
       "    </tr>\n",
       "    <tr>\n",
       "      <th>1</th>\n",
       "      <td>2</td>\n",
       "      <td>0.002312</td>\n",
       "      <td>0.470693</td>\n",
       "      <td>0.999750</td>\n",
       "    </tr>\n",
       "    <tr>\n",
       "      <th>2</th>\n",
       "      <td>3</td>\n",
       "      <td>0.002372</td>\n",
       "      <td>0.303022</td>\n",
       "      <td>0.999491</td>\n",
       "    </tr>\n",
       "    <tr>\n",
       "      <th>3</th>\n",
       "      <td>4</td>\n",
       "      <td>0.002340</td>\n",
       "      <td>0.411173</td>\n",
       "      <td>0.999970</td>\n",
       "    </tr>\n",
       "    <tr>\n",
       "      <th>4</th>\n",
       "      <td>5</td>\n",
       "      <td>0.002398</td>\n",
       "      <td>0.441601</td>\n",
       "      <td>0.999910</td>\n",
       "    </tr>\n",
       "  </tbody>\n",
       "</table>\n",
       "</div>"
      ],
      "text/plain": [
       "   Ciclo  Pendiente  Intercepto        R2\n",
       "0      1   0.002410    0.251952  0.999029\n",
       "1      2   0.002312    0.470693  0.999750\n",
       "2      3   0.002372    0.303022  0.999491\n",
       "3      4   0.002340    0.411173  0.999970\n",
       "4      5   0.002398    0.441601  0.999910"
      ]
     },
     "execution_count": 66,
     "metadata": {},
     "output_type": "execute_result"
    }
   ],
   "source": [
    "# Crear una lista para almacenar los resultados\n",
    "resultados = []\n",
    "\n",
    "# Iterar sobre cada ciclo de carga\n",
    "for ciclo in df['Index'].unique():\n",
    "    # Filtrar los datos para el ciclo actual\n",
    "    subset = df[df['Index'] == ciclo]\n",
    "    \n",
    "    # Definir las características (X) y el objetivo (y)\n",
    "    X = subset['Tiempo'].values.reshape(-1, 1)  # Reshape para que tenga la forma correcta\n",
    "    y = subset['Carga'].values\n",
    "    \n",
    "    # Crear y entrenar el modelo de regresión lineal\n",
    "    modelo = LinearRegression()\n",
    "    modelo.fit(X, y)\n",
    "    \n",
    "    # Predecir usando el modelo entrenado\n",
    "    y_pred = modelo.predict(X)\n",
    "    \n",
    "    # Calcular la pendiente, el intercepto y el R2\n",
    "    pendiente = modelo.coef_[0]\n",
    "    intercepto = modelo.intercept_\n",
    "    r2 = r2_score(y, y_pred)\n",
    "    \n",
    "    # Almacenar los resultados en una lista\n",
    "    resultados.append({'Ciclo': ciclo, 'Pendiente': pendiente, 'Intercepto': intercepto, 'R2': r2})\n",
    "\n",
    "# Convertir la lista de resultados en un DataFrame\n",
    "resultados_df = pd.DataFrame(resultados)\n",
    "\n",
    "# Mostrar los resultados\n",
    "resultados_df\n"
   ]
  },
  {
   "cell_type": "markdown",
   "metadata": {},
   "source": [
    "> **Nota**: Como se observó en la gráfica, el intercepto siempre corresponde a la carga inicial y la pendiente es prácticamente la misma en todos los ciclos (tomaré el valor promedio). El coeficiente de determinación (R²) confirma que el ciclo de carga de mi auto es completamente lineal."
   ]
  },
  {
   "cell_type": "code",
   "execution_count": 69,
   "metadata": {},
   "outputs": [
    {
     "name": "stdout",
     "output_type": "stream",
     "text": [
      "0.0023662327596904323\n"
     ]
    }
   ],
   "source": [
    "# Calculando la pendiente promedio\n",
    "pendiente_promedio = resultados_df['Pendiente'].mean()\n",
    "print(pendiente_promedio)"
   ]
  },
  {
   "cell_type": "markdown",
   "metadata": {},
   "source": [
    "Entonces, tomando la ecuación de la regresión lineal, esta puede ser expresada en este caso así:"
   ]
  },
  {
   "cell_type": "markdown",
   "metadata": {},
   "source": [
    "$$\n",
    "\\text{y (Carga\\_Final)} = \\text{Pendiente} \\times \\text{X (Tiempo\\_Minutos)} + \\text{Intercepto (Carga\\_Inicial)}\n",
    "$$"
   ]
  },
  {
   "cell_type": "markdown",
   "metadata": {},
   "source": [
    "Lo que quiero calcular es realmente el *tiempo en minutos que tardará mi auto en cargar*. Por lo tanto, necesito despejar este tiempo y expresar la ecuación en términos de lo que conozco, que son la *carga inicial* y la *carga deseada*."
   ]
  },
  {
   "cell_type": "markdown",
   "metadata": {},
   "source": [
    "$$\n",
    "\\text{X (Tiempo\\_Minutos)} = \\frac{\\text{y (Carga\\_Final)} - \\text{Intercepto (Carga\\_Inicial)}}{\\text{Pendiente}}\n",
    "$$"
   ]
  },
  {
   "cell_type": "markdown",
   "metadata": {},
   "source": [
    "### 5. Conclusiones\n",
    "<a id=\"conclusiones\"></a>"
   ]
  },
  {
   "cell_type": "markdown",
   "metadata": {},
   "source": [
    "Finalmente, de este análisis pude derivar una función sencilla para calcular los minutos necesarios para cargar mi auto:"
   ]
  },
  {
   "cell_type": "code",
   "execution_count": 70,
   "metadata": {},
   "outputs": [],
   "source": [
    "def calcular_tiempo_carga(carga_inicial, carga_final, pendiente):\n",
    "    \"\"\"\n",
    "    Calcula el tiempo en minutos necesario para cargar la batería desde una carga inicial hasta una carga final.\n",
    "\n",
    "    Parámetros:\n",
    "    carga_inicial (float): La carga inicial de la batería (entre 0 y 1).\n",
    "    carga_final (float): La carga deseada de la batería (entre 0 y 1).\n",
    "    pendiente (float): La pendiente de la regresión lineal.\n",
    "\n",
    "    Retorna:\n",
    "    float: El tiempo en minutos necesario para alcanzar la carga final desde la carga inicial.\n",
    "    \"\"\"\n",
    "    # Despejar el tiempo en minutos usando la fórmula de la regresión lineal\n",
    "    tiempo_minutos = (carga_final - carga_inicial) / pendiente\n",
    "    return tiempo_minutos"
   ]
  },
  {
   "cell_type": "markdown",
   "metadata": {},
   "source": [
    "Además, he calculado la pendiente del comportamiento de carga. Es un poco sorprendente lo simple que resultó ser, ya que la carga sigue un comportamiento lineal predecible. Esto me alegra porque es fácil de modelar, pero también me entristece porque esperaba algo más complejo.\n",
    "\n",
    "Es importante mencionar que este análisis depende de varios factores que he asumido constantes:\n",
    "\n",
    "- **Temperatura**: La eficiencia de la carga de la batería puede variar significativamente con la temperatura ambiental.\n",
    "- **Voltaje**: Supuse que el voltaje de carga es constante, aunque en la realidad puede fluctuar.\n",
    "- **Estado de la Batería**: La capacidad y eficiencia de la batería pueden cambiar con el tiempo y el uso, lo que no se ha considerado en este análisis.\n",
    "- **Condiciones de Carga**: Factores como la calidad del cargador y las condiciones de conexión también pueden influir.\n",
    "\n",
    "A futuro, será interesante seguir monitoreando la pendiente de la carga, ya que su cambio podría indicar cómo la vida útil de la batería se va reduciendo y aumentando los tiempos de carga. Esto me permitirá tomar decisiones informadas sobre el mantenimiento o la sustitución de la batería para asegurar que siga funcionando de manera óptima."
   ]
  },
  {
   "cell_type": "markdown",
   "metadata": {},
   "source": []
  }
 ],
 "metadata": {
  "kernelspec": {
   "display_name": ".venv",
   "language": "python",
   "name": "python3"
  },
  "language_info": {
   "codemirror_mode": {
    "name": "ipython",
    "version": 3
   },
   "file_extension": ".py",
   "mimetype": "text/x-python",
   "name": "python",
   "nbconvert_exporter": "python",
   "pygments_lexer": "ipython3",
   "version": "3.10.6"
  }
 },
 "nbformat": 4,
 "nbformat_minor": 2
}
